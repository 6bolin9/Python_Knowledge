{
 "cells": [
  {
   "cell_type": "markdown",
   "metadata": {
    "toc": true
   },
   "source": [
    "<h1>Table of Contents<span class=\"tocSkip\"></span></h1>\n",
    "<div class=\"toc\" style=\"margin-top: 1em;\"><ul class=\"toc-item\"><li><span><a href=\"#Exploring-your-working-directory\" data-toc-modified-id=\"Exploring-your-working-directory-1\"><span class=\"toc-item-num\">1&nbsp;&nbsp;</span>Exploring your working directory</a></span><ul class=\"toc-item\"><li><span><a href=\"#Importing-entire-text-files\" data-toc-modified-id=\"Importing-entire-text-files-1.1\"><span class=\"toc-item-num\">1.1&nbsp;&nbsp;</span>Importing entire text files</a></span></li><li><span><a href=\"#readline()-一行一行读.\" data-toc-modified-id=\"readline()-一行一行读.-1.2\"><span class=\"toc-item-num\">1.2&nbsp;&nbsp;</span>readline() 一行一行读.</a></span></li></ul></li><li><span><a href=\"#Flat-File类似DataFrame\" data-toc-modified-id=\"Flat-File类似DataFrame-2\"><span class=\"toc-item-num\">2&nbsp;&nbsp;</span>Flat File类似DataFrame</a></span><ul class=\"toc-item\"><li><span><a href=\"#Importing-flat-files-using-NumPy\" data-toc-modified-id=\"Importing-flat-files-using-NumPy-2.1\"><span class=\"toc-item-num\">2.1&nbsp;&nbsp;</span>Importing flat files using NumPy</a></span></li></ul></li><li><span><a href=\"#Customizing-NumPy-import\" data-toc-modified-id=\"Customizing-NumPy-import-3\"><span class=\"toc-item-num\">3&nbsp;&nbsp;</span>Customizing NumPy import</a></span><ul class=\"toc-item\"><li><span><a href=\"#有header不想引入，其他delimiter，只引入个别columns\" data-toc-modified-id=\"有header不想引入，其他delimiter，只引入个别columns-3.1\"><span class=\"toc-item-num\">3.1&nbsp;&nbsp;</span>有header不想引入，其他delimiter，只引入个别columns</a></span></li></ul></li></ul></div>"
   ]
  },
  {
   "cell_type": "markdown",
   "metadata": {
    "collapsed": true
   },
   "source": [
    "# Exploring your working directory\n",
    "**For example, starting a line with ! gives you complete system shell access. **\n",
    "- This means that the IPython magic command ! ls will display the contents of your current directory. \n",
    "- check out the contents of your current directory \n",
    "\n",
    "and answer the following question: which of the following files is in your working directory?"
   ]
  },
  {
   "cell_type": "code",
   "execution_count": 2,
   "metadata": {},
   "outputs": [
    {
     "name": "stdout",
     "output_type": "stream",
     "text": [
      "1.Size~residuals.png\r\n",
      "1.staff~residuals.png\r\n",
      "\u001b[34m11\u001b[m\u001b[m\r\n",
      "2.predictedvalues_residuals.png\r\n",
      "2nd.with.age.size.xlsx\r\n",
      "3.1hisotrgam.png\r\n",
      "3.2QQplot.png\r\n",
      "3rd.with.size.age.employyears.xlsx\r\n",
      "4 aspects of performance information use.R\r\n",
      "4.residuals.png\r\n",
      "86miss_overall.xlsx\r\n",
      "86overall.xlsx\r\n",
      "Age-PI.png\r\n",
      "\u001b[34mAnacondaProjects\u001b[m\u001b[m\r\n",
      "\u001b[34mApplications\u001b[m\u001b[m\r\n",
      "August2.sav\r\n",
      "Bloomberg.csv\r\n",
      "Brandscreentest.png\r\n",
      "Build a Web Scraper.ipynb\r\n",
      "CAMP_Supervised_Learning_scikitlearn.ipynb\r\n",
      "Constanvariance.png\r\n",
      "DataCampMachineLearning+Deeplearning.ipynb\r\n",
      "Ddddd.png\r\n",
      "Deeplearning1.AndrewNg.ipynb\r\n",
      "Dental.png\r\n",
      "\u001b[34mDesktop\u001b[m\u001b[m\r\n",
      "Doctoal.png\r\n",
      "\u001b[34mDocuments\u001b[m\u001b[m\r\n",
      "\u001b[34mDownloads\u001b[m\u001b[m\r\n",
      "Employed—pi.png\r\n",
      "Git for Data Science.ipynb\r\n",
      "Importing Data in Python.ipynb\r\n",
      "Law.png\r\n",
      "\u001b[34mLibrary\u001b[m\u001b[m\r\n",
      "Logistic Regression.ipynb\r\n",
      "LogisticRegression.ipynb\r\n",
      "Machine Learning：School Budgets.ipynb\r\n",
      "MachineLearning_BaseBall_1-Copy1.ipynb\r\n",
      "MachineLearning_BaseBall_1.ipynb\r\n",
      "MachineLearning_BaseBall_2.ipynb\r\n",
      "Medical.png\r\n",
      "\u001b[34mMovies\u001b[m\u001b[m\r\n",
      "\u001b[34mMusic\u001b[m\u001b[m\r\n",
      "NEW_BOLINLI-CV-2017.docx\r\n",
      "Normal nearly.png\r\n",
      "Normal.png\r\n",
      "Octave做图.m\r\n",
      "Output1.spv\r\n",
      "Output3.spv\r\n",
      "PI age.png\r\n",
      "PI distribution.png\r\n",
      "PI+1.5.png\r\n",
      "PI+1.png\r\n",
      "PI-0.5width.png\r\n",
      "PI-1width.png\r\n",
      "PI-Xt.png\r\n",
      "PI-employed.png\r\n",
      "PI-size.png\r\n",
      "PI1.xlsx\r\n",
      "PI2.xlsx\r\n",
      "PI3.xlsx\r\n",
      "PIXS.png\r\n",
      "PIXf.png\r\n",
      "PIXh.png\r\n",
      "PIXt.png\r\n",
      "PI_fillmean.xlsx\r\n",
      "PI_fillmedian.xlsx\r\n",
      "PI_original.xlsx\r\n",
      "PIage.png\r\n",
      "PIemploye.png\r\n",
      "PImean_fillmean.xlsx\r\n",
      "PImean_fillmedian.xlsx\r\n",
      "PImean_no_na.xlsx\r\n",
      "PImean_original.xlsx\r\n",
      "PIsize.png\r\n",
      "PLOT for PI use.R\r\n",
      "\u001b[34mPictures\u001b[m\u001b[m\r\n",
      "\u001b[34mPublic\u001b[m\u001b[m\r\n",
      "PythonDataScienceToolboxPart1+2..ipynb\r\n",
      "Rplot.png\r",
      "\r\n",
      "Rplot01.png\r\n",
      "Rplot02.png\r\n",
      "Rplot03.png\r\n",
      "Rplot04.png\r\n",
      "Rplot05.png\r\n",
      "Rplot06.png\r\n",
      "Rplot07.png\r\n",
      "Rplot13.png\r\n",
      "RscrapingAdress.R\r\n",
      "RscriptMSCA673.1.R\r\n",
      "R语言笔记.R\r\n",
      "SPSS_PI_OUTPUT.spv\r\n",
      "Sadasdad.png\r\n",
      "Scatterplot for PI size.png\r\n",
      "Size.png\r\n",
      "Size—pies.png\r\n",
      "Statistical Thinking Python (Part 1).ipynb\r\n",
      "Timeseries.R\r\n",
      "Untitled.ipynb\r\n",
      "Untitled1.ipynb\r\n",
      "Untitled2.ipynb\r\n",
      "Untitled3.ipynb\r\n",
      "Untitled4.html\r\n",
      "Untitled4.ipynb\r\n",
      "Xf.xlsx\r\n",
      "Xfl.png\r\n",
      "Xfp.png\r\n",
      "Xfu.png\r\n",
      "Xs.xlsx\r\n",
      "Xsl.png\r\n",
      "Xsu.png\r\n",
      "Xt + PI.png\r\n",
      "Xt-pi use.png\r\n",
      "Xt.png\r\n",
      "Xtp.png\r\n",
      "YP.csv\r\n",
      "all_data.xlsx\r\n",
      "\u001b[34manaconda\u001b[m\u001b[m\r\n",
      "assigment1Q1output.spv\r\n",
      "brand1.png\r\n",
      "cleanoveralldata.xlsx\r\n",
      "constant varianceee.png\r\n",
      "csvfile.csv\r\n",
      "data2.xlsx\r\n",
      "data3.xlsx\r\n",
      "data4.xlsx\r\n",
      "dataMLPIetc.R\r\n",
      "data_categorical.xlsx\r\n",
      "data_nocatego.xlsx\r\n",
      "dyplr.R\r\n",
      "fileName.csv\r\n",
      "final_nocateg.xlsx\r\n",
      "finall_all.xlsx\r\n",
      "fitPCA.png\r\n",
      "forum1\r\n",
      "forums-frequency.RData\r\n",
      "histogram_86_fill mean.png\r\n",
      "histogram_86_fill median.png\r\n",
      "independent residual.png\r\n",
      "\u001b[34minformation\u001b[m\u001b[m\r\n",
      "intro.py\r\n",
      "lahman2016.sqlite\r\n",
      "myfile.xls\r\n",
      "na67.xlsx\r\n",
      "notebookR1.Rmd\r\n",
      "notebookR1.nb.html\r\n",
      "overalldata.xlsx\r\n",
      "python+requests+beautifulsoup.ipynb\r\n",
      "python简单文件后缀分类.ipynb\r\n",
      "request_update_studypermit.docx\r\n",
      "sentimentanalysis.R\r\n",
      "stake.xlsx\r\n",
      "store-df-backup.RData\r\n",
      "text.csv\r\n",
      "textdata.csv\r\n",
      "weather.csv\r\n",
      "weather.xlsx\r\n",
      "z-artist-names.csv\r\n",
      "爬取小说+天气.ipynb\r\n",
      "爬取艺术家信息.ipynb\r\n"
     ]
    }
   ],
   "source": [
    "! ls  # display the contents of your directory"
   ]
  },
  {
   "cell_type": "markdown",
   "metadata": {},
   "source": [
    "## Importing entire text files\n",
    "\n",
    "**Open the file moby_dick.txt as read-only and store it in the variable file. Make sure to pass the filename enclosed in quotation marks ''.**\n",
    "file = open('moby_dick.txt', mode='r')\n",
    "\n"
   ]
  },
  {
   "cell_type": "code",
   "execution_count": 11,
   "metadata": {
    "scrolled": true
   },
   "outputs": [
    {
     "name": "stdout",
     "output_type": "stream",
     "text": [
      "a,b,c\n",
      "1,2,qq\n",
      "1,2,qq\n",
      "1,2,qq\n",
      "1,2,qq\n",
      "4,5\n",
      "\n",
      "1,2,qq\n",
      "1,2,qq\n",
      "1,2,qq\n",
      "1,2,qq\n",
      "1,2,qq\n",
      "1\n",
      "\n",
      "\n",
      "1,2,qq\n",
      "\n",
      "1,2,qq\n",
      "1,2,qq\n",
      "1,2,qq\n",
      "1\n",
      "\n",
      "1\n",
      "1\n",
      "1,2,qq\n",
      "1,2,qq\n",
      "1,2,qq\n",
      "1,2,er\n",
      "\n",
      "\n",
      "False\n"
     ]
    }
   ],
   "source": [
    "# Open a file: file  # 命名目标文件TEXT于python\n",
    "file = open('/Users/libolin/anaconda/lib/R/library/data.table/tests/536_fread_fill_1.txt', mode='r')\n",
    "\n",
    "# Print it           #打开命名的文件\n",
    "print(file.read())\n",
    "\n",
    "# Check whether file is closed\n",
    "print(file.closed)"
   ]
  },
  {
   "cell_type": "code",
   "execution_count": 12,
   "metadata": {},
   "outputs": [
    {
     "name": "stdout",
     "output_type": "stream",
     "text": [
      "True\n"
     ]
    }
   ],
   "source": [
    "file.close()  #关闭了文档\n",
    "\n",
    "print(file.closed)\n"
   ]
  },
  {
   "cell_type": "markdown",
   "metadata": {},
   "source": [
    "## readline() 一行一行读. \n",
    "- When a file called file is open, y\n",
    "- ou can print out the first line by executing file.readline(). \n",
    "- If you execute the same command again, the second line will print, and so on.\n",
    "\n",
    "**You can bind a variable file by using a context manager construct:**\n",
    "\n",
    "    - with open('huck_finn.txt') as file:\n",
    "While still within this construct, the variable file will be bound to open('huck_finn.txt'); thus, to print the file to the shell, all the code you need to execute is:\n",
    "\n",
    "with open('huck_finn.txt') as file:\n",
    "    print(file.read())"
   ]
  },
  {
   "cell_type": "code",
   "execution_count": 13,
   "metadata": {},
   "outputs": [
    {
     "name": "stdout",
     "output_type": "stream",
     "text": [
      "a,b,c\n",
      "\n",
      "1,2,qq\n",
      "\n",
      "1,2,qq\n",
      "\n"
     ]
    }
   ],
   "source": [
    "# Read & print the first 3 lines --- 一行一行读\n",
    "with open('/Users/libolin/anaconda/lib/R/library/data.table/tests/536_fread_fill_1.txt') as file:\n",
    "    print(file.readline())\n",
    "    print(file.readline())\n",
    "    print(file.readline())\n"
   ]
  },
  {
   "cell_type": "markdown",
   "metadata": {},
   "source": [
    "# Flat File类似DataFrame\n",
    "\n",
    "Flat files consist of rows and each row is called a record.  \n",
    "\n",
    "A record in a flat file is composed of fields or attributes, each of which contains at most one item of information.\n",
    "\n",
    "- 是否有**header** --- 会影响\n",
    "- 种类，CSV 每个value被逗号隔开， text file，\n",
    "\n",
    "## Importing flat files using NumPy\n",
    "numpy is essential for sikati learn\n",
    "- using the numpy function loadtxt() and \n",
    "  - The first argument will be the filename. \n",
    "  - The second will be the delimiter which, in this case, is a comma.\n",
    "\n",
    "You can find more information about the MNIST dataset here on the webpage of Yann LeCun, who is currently Director of AI Research at Facebook and Founding Director of the NYU Center for Data Science, among many other things."
   ]
  },
  {
   "cell_type": "code",
   "execution_count": 14,
   "metadata": {},
   "outputs": [
    {
     "name": "stdout",
     "output_type": "stream",
     "text": [
      "<type 'numpy.ndarray'>\n"
     ]
    }
   ],
   "source": [
    "#Fill in the arguments of np.loadtxt() by passing file and a comma ',' for the delimite\n",
    "\n",
    "#(1) Import package\n",
    "import numpy as np\n",
    "\n",
    "# (2)Assign filename to variable: file\n",
    "file = '/Users/libolin/anaconda/pkgs/scikit-learn-0.18.1-np112py27_1/lib/python2.7/site-packages/sklearn/datasets/data/digits.csv'\n",
    "\n",
    "# (3)Load file as array: digits:针对CSV文件，隔离选择了comma\n",
    "digits = np.loadtxt(file, delimiter=',')\n",
    "\n",
    "# Print datatype of digits\n",
    "print(type(digits))\n",
    "\n",
    "# output:\n",
    " #   <class 'numpy.ndarray'>"
   ]
  },
  {
   "cell_type": "code",
   "execution_count": 19,
   "metadata": {},
   "outputs": [
    {
     "data": {
      "text/plain": [
       "(64,)"
      ]
     },
     "execution_count": 19,
     "metadata": {},
     "output_type": "execute_result"
    }
   ],
   "source": [
    "import matplotlib.pyplot as plt\n",
    "# Import package\n",
    "import numpy as np\n",
    "\n",
    "# Assign filename to variable: file\n",
    "file = '/Users/libolin/anaconda/pkgs/scikit-learn-0.18.1-np112py27_1/lib/python2.7/site-packages/sklearn/datasets/data/digits.csv'\n",
    "\n",
    "# Load file as array: digits\n",
    "digits = np.loadtxt(file, delimiter=',')\n",
    "\n",
    "# Select and reshape a row选取第21row\n",
    "im = digits[21, 1:]\n",
    "im.shape"
   ]
  },
  {
   "cell_type": "code",
   "execution_count": 20,
   "metadata": {},
   "outputs": [
    {
     "data": {
      "image/png": "[encoded data removed]",
      "text/plain": [
       "<matplotlib.figure.Figure at 0x10e24be50>"
      ]
     },
     "metadata": {},
     "output_type": "display_data"
    }
   ],
   "source": [
    "im_sq = np.reshape(im, (8, 8)) \n",
    "#将一个行向量，转成一个matrix--8X8\n",
    "\n",
    "# Plot reshaped data (matplotlib.pyplot already loaded as plt)\n",
    "plt.imshow(im_sq, cmap='Greys', interpolation='nearest')\n",
    "plt.show()\n"
   ]
  },
  {
   "cell_type": "markdown",
   "metadata": {},
   "source": [
    "# Customizing NumPy import\n",
    "## 有header不想引入，其他delimiter，只引入个别columns\n",
    "\n",
    "What if there are rows, such as a header, that you don't want to import? What if your file has a delimiter other than a comma? What if you only wish to import particular columns?\n",
    "\n",
    "There are a number of arguments that np.loadtxt() takes that you'll find useful:\n",
    "- use ',' and '\\t' for comma-delimited and tab-delimited respectively; \n",
    "- skiprows allows you to specify how many rows (not indices) you wish to skip; \n",
    "- usecols takes a list of the indices of the columns you wish to keep.\n",
    "\n",
    "**import digits_header.txt,\n",
    "has a header\n",
    "is tab-delimited.**"
   ]
  },
  {
   "cell_type": "code",
   "execution_count": null,
   "metadata": {
    "collapsed": true
   },
   "outputs": [],
   "source": []
  },
  {
   "cell_type": "code",
   "execution_count": null,
   "metadata": {
    "collapsed": true
   },
   "outputs": [],
   "source": []
  }
 ],
 "metadata": {
  "kernelspec": {
   "display_name": "Python 2",
   "language": "python",
   "name": "python2"
  },
  "language_info": {
   "codemirror_mode": {
    "name": "ipython",
    "version": 2
   },
   "file_extension": ".py",
   "mimetype": "text/x-python",
   "name": "python",
   "nbconvert_exporter": "python",
   "pygments_lexer": "ipython2",
   "version": "2.7.13"
  },
  "toc": {
   "nav_menu": {},
   "number_sections": true,
   "sideBar": true,
   "skip_h1_title": false,
   "toc_cell": true,
   "toc_position": {},
   "toc_section_display": "block",
   "toc_window_display": true
  }
 },
 "nbformat": 4,
 "nbformat_minor": 2
}
